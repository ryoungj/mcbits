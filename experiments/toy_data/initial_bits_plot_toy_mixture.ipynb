{
 "cells": [
  {
   "cell_type": "code",
   "execution_count": 1,
   "metadata": {},
   "outputs": [],
   "source": [
    "import os\n",
    "import sys\n",
    "import numpy as np\n",
    "import collections\n",
    "import argparse\n",
    "from numpy import ones, tile\n",
    "from mcbits import coders, util\n",
    "from models.toy_model import ToyModel\n",
    "import random\n",
    "\n",
    "exp_name = \"initial_bits_plot_toy_mixture\"\n",
    "dir_name = os.path.join('./save', exp_name)\n",
    "if not os.path.exists(dir_name):\n",
    "    os.makedirs(dir_name)"
   ]
  },
  {
   "cell_type": "markdown",
   "metadata": {},
   "source": [
    "# Arguments"
   ]
  },
  {
   "cell_type": "code",
   "execution_count": 2,
   "metadata": {},
   "outputs": [],
   "source": [
    "# toy experiment parameters, use smaller values to get results faster\n",
    "alphabet_size = 64\n",
    "latent_alphabet_size = 256\n",
    "message_length = 1  # use message length = 1 to quantify initial bit cost\n",
    "sample_size = 100\n",
    "\n",
    "# rANS stack parameters\n",
    "mprec = 16\n",
    "bprec = 32\n",
    "lprec = 32\n",
    "log_max = 7"
   ]
  },
  {
   "cell_type": "markdown",
   "metadata": {},
   "source": [
    "# Toy Model"
   ]
  },
  {
   "cell_type": "code",
   "execution_count": 3,
   "metadata": {},
   "outputs": [],
   "source": [
    "np.random.seed(1234)\n",
    "random.seed(1234)\n",
    "\n",
    "# model\n",
    "model = ToyModel(latent_alphabet_size, alphabet_size)\n",
    "\n",
    "# uniform distribution as posterior\n",
    "prop_counts = (ones((latent_alphabet_size, alphabet_size))\n",
    "                   / latent_alphabet_size)"
   ]
  },
  {
   "cell_type": "markdown",
   "metadata": {},
   "source": [
    "# Count Stat Funcs"
   ]
  },
  {
   "cell_type": "code",
   "execution_count": 4,
   "metadata": {},
   "outputs": [],
   "source": [
    "prior_count_stat_func_cache = util.Categorical(mprec, model.z_probs, use_make_sum_to_M=True)\n",
    "\n",
    "def get_prior_count_stat_func():\n",
    "    return prior_count_stat_func_cache\n",
    "\n",
    "prop_count_stat_func_cache = {}\n",
    "def get_prop_count_stat_func(x):\n",
    "    if x in prop_count_stat_func_cache:\n",
    "        return prop_count_stat_func_cache[x]\n",
    "    else:  \n",
    "        stat_func = util.Categorical(mprec, prop_counts[:, x], use_make_sum_to_M=True)\n",
    "        prop_count_stat_func_cache[x] = stat_func\n",
    "        \n",
    "        return stat_func\n",
    "\n",
    "cond_count_stat_func_cache = {}\n",
    "def get_cond_count_stat_func(z): \n",
    "    if z in cond_count_stat_func_cache:\n",
    "        return cond_count_stat_func_cache[z]\n",
    "    else:\n",
    "        stat_func = util.Categorical(mprec, model.cond_probs[z], use_make_sum_to_M=True)\n",
    "        cond_count_stat_func_cache[z] = stat_func\n",
    "        \n",
    "        return stat_func\n",
    "    \n",
    "joint_count_stat_func_cache_z = {}\n",
    "joint_count_stat_func_cache_x = {}\n",
    "\n",
    "def get_joint_count_stat_func(z=None, x=None):\n",
    "    if z is not None and x is None:\n",
    "        if z in joint_count_stat_func_cache_z:\n",
    "            return joint_count_stat_func_cache_z[z]\n",
    "        else:\n",
    "            stat_func = util.Categorical(mprec, model.joint_probs[z], use_make_sum_to_M=True)\n",
    "            joint_count_stat_func_cache_z[z] = stat_func\n",
    "            \n",
    "            return stat_func\n",
    "    elif x is not None and z is None:\n",
    "        if x in joint_count_stat_func_cache_x:\n",
    "            return joint_count_stat_func_cache_x[x]\n",
    "        else:\n",
    "            stat_func = util.Categorical(mprec, model.joint_probs[:, x], use_make_sum_to_M=True)\n",
    "            joint_count_stat_func_cache_x[x] = stat_func\n",
    "            \n",
    "            return stat_func\n",
    "    else:\n",
    "        raise Exception(\"Bad arg to joint_count_stat_func_fn.\")"
   ]
  },
  {
   "cell_type": "markdown",
   "metadata": {},
   "source": [
    "# BB-ELBO Coder"
   ]
  },
  {
   "cell_type": "markdown",
   "metadata": {},
   "source": [
    "## Compute total bitrate for a single symbol"
   ]
  },
  {
   "cell_type": "code",
   "execution_count": 5,
   "metadata": {},
   "outputs": [
    {
     "name": "stdout",
     "output_type": "stream",
     "text": [
      "BB\n",
      "\ttrue bit length : 67.96460620255293\n"
     ]
    }
   ],
   "source": [
    "coder_class = coders.BitsBackCoder\n",
    "\n",
    "coder_kwargs = {\n",
    "    \"get_prior_count_stat_func\": get_prior_count_stat_func,\n",
    "    \"get_prop_count_stat_func\": get_prop_count_stat_func,\n",
    "    \"get_cond_count_stat_func\": get_cond_count_stat_func,\n",
    "    \"mprec\": mprec, \"lprec\": lprec, \"bprec\": bprec, \"multidim\": False, \"use_statfunc\": False,\n",
    "}\n",
    "\n",
    "true_bits_bitsback = 0.0\n",
    "\n",
    "for _ in range(sample_size):\n",
    "    message = model.sample_message(message_length)\n",
    "    \n",
    "    initial_x = np.random.randint(1 << lprec, 1 << (lprec + bprec) - 1)\n",
    "    coder_kwargs['initial_x'] = initial_x\n",
    "    \n",
    "    coder = coder_class(**coder_kwargs)\n",
    "    coder.encode(message)\n",
    "    \n",
    "    true_bits_bitsback += coder.bit_length / message_length\n",
    "\n",
    "true_bits_bitsback /= sample_size\n",
    "\n",
    "print(f\"BB\")\n",
    "print(f\"\\ttrue bit length : {true_bits_bitsback}\")"
   ]
  },
  {
   "cell_type": "markdown",
   "metadata": {},
   "source": [
    "## Save"
   ]
  },
  {
   "cell_type": "code",
   "execution_count": 6,
   "metadata": {},
   "outputs": [],
   "source": [
    "np.save(os.path.join(dir_name, \"true_bits_bitsback\"), np.array([true_bits_bitsback]))"
   ]
  },
  {
   "cell_type": "markdown",
   "metadata": {},
   "source": [
    "# BB-AIS Coder"
   ]
  },
  {
   "cell_type": "markdown",
   "metadata": {},
   "source": [
    "## Compute total bitrate for a single symbol vs AIS steps"
   ]
  },
  {
   "cell_type": "code",
   "execution_count": 7,
   "metadata": {},
   "outputs": [
    {
     "name": "stdout",
     "output_type": "stream",
     "text": [
      "[1, 2, 4, 8, 16, 32, 64, 128]\n"
     ]
    }
   ],
   "source": [
    "ais_steps_array = list(2 ** np.arange(log_max+1))\n",
    "print(ais_steps_array)"
   ]
  },
  {
   "cell_type": "code",
   "execution_count": 8,
   "metadata": {},
   "outputs": [
    {
     "name": "stdout",
     "output_type": "stream",
     "text": [
      "AIS STEPS=1\n",
      "\ttrue bit length : 67.72950504407949\n",
      "\ttrue bit length (bitswap) : 67.72950504407949\n",
      "AIS STEPS=2\n",
      "\ttrue bit length : 67.7292709542255\n",
      "\ttrue bit length (bitswap) : 67.7292709542255\n",
      "AIS STEPS=4\n",
      "\ttrue bit length : 86.8365847324839\n",
      "\ttrue bit length (bitswap) : 67.63176274488697\n",
      "AIS STEPS=8\n",
      "\ttrue bit length : 109.77863509771076\n",
      "\ttrue bit length (bitswap) : 67.61601533848857\n",
      "AIS STEPS=16\n",
      "\ttrue bit length : 166.8243284025296\n",
      "\ttrue bit length (bitswap) : 67.69073536388123\n",
      "AIS STEPS=32\n",
      "\ttrue bit length : 281.85598807821583\n",
      "\ttrue bit length (bitswap) : 67.53540309952622\n",
      "AIS STEPS=64\n",
      "\ttrue bit length : 511.7909990366486\n",
      "\ttrue bit length (bitswap) : 67.74740449228383\n",
      "AIS STEPS=128\n",
      "\ttrue bit length : 967.6237525116933\n",
      "\ttrue bit length (bitswap) : 67.50294192151709\n"
     ]
    }
   ],
   "source": [
    "coder_class = coders.AISBitsBackCoder\n",
    "\n",
    "# adjust coder kwargs for AIS coder\n",
    "coder_kwargs = {\n",
    "    \"get_prior_count_stat_func\": get_prior_count_stat_func,\n",
    "    \"get_prop_count_stat_func\": get_prop_count_stat_func,\n",
    "    \"get_cond_count_stat_func\": get_cond_count_stat_func,\n",
    "    \"get_joint_count_stat_func\": get_joint_count_stat_func,\n",
    "    \"mprec\": mprec, \"lprec\": lprec, \"bprec\": bprec, \"multidim\": False, \"use_statfunc\": False,\n",
    "}\n",
    "\n",
    "\n",
    "true_bits_ais_bitsback_array = []\n",
    "true_bits_ais_bitsback_bitswap_array = []\n",
    "\n",
    "for ais_steps in ais_steps_array:\n",
    "    coder_kwargs[\"betas\"] = np.flip(np.linspace(0, 1, ais_steps+1))\n",
    "    \n",
    "    true_bits_ais_bitsback = 0.0\n",
    "    true_bits_ais_bitsback_bitswap = 0.0\n",
    "    for _ in range(sample_size):\n",
    "        message = model.sample_message(message_length)\n",
    "        initial_x = np.random.randint(1 << lprec, 1 << (lprec + bprec) - 1)\n",
    "        coder_kwargs['initial_x'] = initial_x\n",
    "        \n",
    "        coder_kwargs[\"bitswap\"] = False\n",
    "        coder = coder_class(**coder_kwargs)\n",
    "        coder.encode(message)\n",
    "        true_bits_ais_bitsback += coder.bit_length / message_length\n",
    "\n",
    "        coder_kwargs[\"bitswap\"] = True\n",
    "        coder = coder_class(**coder_kwargs)\n",
    "        coder.encode(message)\n",
    "        true_bits_ais_bitsback_bitswap += coder.bit_length / message_length\n",
    "    \n",
    "    true_bits_ais_bitsback /= sample_size\n",
    "    true_bits_ais_bitsback_bitswap /= sample_size\n",
    "    \n",
    "    print(f\"AIS STEPS={ais_steps}\")\n",
    "    print(f\"\\ttrue bit length : {true_bits_ais_bitsback}\")\n",
    "    print(f\"\\ttrue bit length (bitswap) : {true_bits_ais_bitsback_bitswap}\")\n",
    "    \n",
    "\n",
    "    true_bits_ais_bitsback_array.append(true_bits_ais_bitsback)\n",
    "    true_bits_ais_bitsback_bitswap_array.append(true_bits_ais_bitsback_bitswap)"
   ]
  },
  {
   "cell_type": "markdown",
   "metadata": {},
   "source": [
    "## Save"
   ]
  },
  {
   "cell_type": "code",
   "execution_count": 9,
   "metadata": {},
   "outputs": [],
   "source": [
    "np.save(os.path.join(dir_name, \"true_bits_ais_bitsback_array\"), np.array(true_bits_ais_bitsback_array))\n",
    "np.save(os.path.join(dir_name, \"true_bits_ais_bitsback_bitswap_array\"), np.array(true_bits_ais_bitsback_bitswap_array))"
   ]
  },
  {
   "cell_type": "markdown",
   "metadata": {},
   "source": [
    "# BB-IS Coder"
   ]
  },
  {
   "cell_type": "markdown",
   "metadata": {},
   "source": [
    "## Compute total bitrate for a single symbol vs # particles"
   ]
  },
  {
   "cell_type": "code",
   "execution_count": 10,
   "metadata": {},
   "outputs": [
    {
     "name": "stdout",
     "output_type": "stream",
     "text": [
      "[1, 2, 4, 8, 16, 32, 64, 128]\n"
     ]
    }
   ],
   "source": [
    "num_particles_array = list(2 ** np.arange(log_max+1))\n",
    "print(num_particles_array)"
   ]
  },
  {
   "cell_type": "code",
   "execution_count": 11,
   "metadata": {},
   "outputs": [
    {
     "name": "stdout",
     "output_type": "stream",
     "text": [
      "IS # Particles=1\n",
      "\ttrue bit length : 67.74550546876971\n",
      "IS # Particles=2\n",
      "\ttrue bit length : 67.78875783363117\n",
      "IS # Particles=4\n",
      "\ttrue bit length : 99.61099167001692\n",
      "IS # Particles=8\n",
      "\ttrue bit length : 131.54786816528255\n",
      "IS # Particles=16\n",
      "\ttrue bit length : 195.35710752068567\n",
      "IS # Particles=32\n",
      "\ttrue bit length : 323.72393843005256\n",
      "IS # Particles=64\n",
      "\ttrue bit length : 579.5525251794246\n",
      "IS # Particles=128\n",
      "\ttrue bit length : 1091.5412329410642\n"
     ]
    }
   ],
   "source": [
    "coder_class = coders.ISBitsBackCoder\n",
    "\n",
    "coder_kwargs = {\n",
    "    \"get_prior_count_stat_func\": get_prior_count_stat_func,\n",
    "    \"get_prop_count_stat_func\": get_prop_count_stat_func,\n",
    "    \"get_cond_count_stat_func\": get_cond_count_stat_func,\n",
    "    \"mprec\": mprec, \"lprec\": lprec, \"bprec\": bprec, \"multidim\": False, \"use_statfunc\": False,\n",
    "}\n",
    "\n",
    "\n",
    "true_bits_is_bitsback_array = []\n",
    "\n",
    "for num_particles in num_particles_array:\n",
    "    coder_kwargs[\"num_particles\"] = num_particles\n",
    "    \n",
    "    true_bits_is_bitsback = 0.0\n",
    "    for _ in range(sample_size):\n",
    "        message = model.sample_message(message_length)\n",
    "        initial_x = np.random.randint(1 << lprec, 1 << (lprec + bprec) - 1)\n",
    "        coder_kwargs['initial_x'] = initial_x\n",
    "        \n",
    "        coder = coder_class(**coder_kwargs)\n",
    "        coder.encode(message)\n",
    "        true_bits_is_bitsback += coder.bit_length / message_length\n",
    "    \n",
    "    true_bits_is_bitsback /= sample_size\n",
    "    \n",
    "    print(f\"IS # Particles={num_particles}\")\n",
    "    print(f\"\\ttrue bit length : {true_bits_is_bitsback}\")\n",
    "\n",
    "    true_bits_is_bitsback_array.append(true_bits_is_bitsback)"
   ]
  },
  {
   "cell_type": "markdown",
   "metadata": {},
   "source": [
    "## Save"
   ]
  },
  {
   "cell_type": "code",
   "execution_count": 12,
   "metadata": {},
   "outputs": [],
   "source": [
    "np.save(os.path.join(dir_name, \"true_bits_is_bitsback_array\"), np.array(true_bits_is_bitsback_array))"
   ]
  },
  {
   "cell_type": "markdown",
   "metadata": {},
   "source": [
    "# BB-CIS Coder"
   ]
  },
  {
   "cell_type": "markdown",
   "metadata": {},
   "source": [
    "## Compute total bitrate for a single symbol vs # particles"
   ]
  },
  {
   "cell_type": "code",
   "execution_count": 13,
   "metadata": {},
   "outputs": [
    {
     "name": "stdout",
     "output_type": "stream",
     "text": [
      "CIS # Particles=1\n",
      "\ttrue bit length : 67.90654705016895\n",
      "CIS # Particles=2\n",
      "\ttrue bit length : 67.80728456023138\n",
      "CIS # Particles=4\n",
      "\ttrue bit length : 67.5068214536844\n",
      "CIS # Particles=8\n",
      "\ttrue bit length : 67.50704974494742\n",
      "CIS # Particles=16\n",
      "\ttrue bit length : 67.4960565969114\n",
      "CIS # Particles=32\n",
      "\ttrue bit length : 67.87569015547597\n",
      "CIS # Particles=64\n",
      "\ttrue bit length : 67.69622375795912\n",
      "CIS # Particles=128\n",
      "\ttrue bit length : 68.15332863088062\n"
     ]
    }
   ],
   "source": [
    "coder_class = coders.CISBitsBackCoder\n",
    "\n",
    "# for cis, we use shift sampling operators to generate other latents\n",
    "def shift_sampling(shift, precision):\n",
    "    assert 0.0 <= shift <= 1.0\n",
    "    upper = 1 << precision\n",
    "    shift_scaled = int(shift * upper)\n",
    "\n",
    "    def operator(u, prop_count_stat_func):\n",
    "        return (u + shift_scaled) % upper\n",
    "\n",
    "    def inverse_operator(u, prop_count_stat_func):\n",
    "        return (u - shift_scaled) % upper\n",
    "\n",
    "    return (operator, inverse_operator)\n",
    "\n",
    "\n",
    "coder_kwargs = {\n",
    "    \"get_prior_count_stat_func\": get_prior_count_stat_func,\n",
    "    \"get_prop_count_stat_func\": get_prop_count_stat_func,\n",
    "    \"get_cond_count_stat_func\": get_cond_count_stat_func,\n",
    "    \"mprec\": mprec, \"lprec\": lprec, \"bprec\": bprec, \"multidim\": False, \"use_statfunc\": False,\n",
    "}\n",
    "\n",
    "\n",
    "true_bits_cis_bitsback_array = []\n",
    "\n",
    "for num_particles in num_particles_array:    \n",
    "    sampling_shifts = np.random.rand(num_particles-1,)\n",
    "    sampling_shifts = np.insert(sampling_shifts, 0, 0.0)\n",
    "    shift_sampling_operators = [shift_sampling(shift, mprec) for shift in sampling_shifts]\n",
    "    \n",
    "    \n",
    "    coder_kwargs[\"num_particles\"] = num_particles\n",
    "    coder_kwargs[\"bijective_operators\"] = shift_sampling_operators\n",
    "    \n",
    "    true_bits_cis_bitsback = 0.0\n",
    "    for _ in range(sample_size):\n",
    "        message = model.sample_message(message_length)\n",
    "        initial_x = np.random.randint(1 << lprec, 1 << (lprec + bprec) - 1)\n",
    "        coder_kwargs['initial_x'] = initial_x\n",
    "        \n",
    "        coder = coder_class(**coder_kwargs)\n",
    "        coder.encode(message)\n",
    "        true_bits_cis_bitsback += coder.bit_length / message_length\n",
    "    \n",
    "    true_bits_cis_bitsback /= sample_size\n",
    "    \n",
    "    \n",
    "    print(f\"CIS # Particles={num_particles}\")\n",
    "    print(f\"\\ttrue bit length : {true_bits_cis_bitsback}\")\n",
    "\n",
    "    true_bits_cis_bitsback_array.append(true_bits_cis_bitsback)"
   ]
  },
  {
   "cell_type": "markdown",
   "metadata": {},
   "source": [
    "## Save"
   ]
  },
  {
   "cell_type": "code",
   "execution_count": 14,
   "metadata": {},
   "outputs": [],
   "source": [
    "np.save(os.path.join(dir_name, \"true_bits_cis_bitsback_array\"), np.array(true_bits_cis_bitsback_array))"
   ]
  },
  {
   "cell_type": "markdown",
   "metadata": {},
   "source": [
    "# Load"
   ]
  },
  {
   "cell_type": "code",
   "execution_count": 15,
   "metadata": {},
   "outputs": [],
   "source": [
    "# BB-ELBO\n",
    "true_bits_bitsback = np.load(os.path.join(dir_name, \"true_bits_bitsback.npy\"))[0]\n",
    "\n",
    "# BB-AIS\n",
    "true_bits_ais_bitsback_array = np.load(os.path.join(dir_name, \"true_bits_ais_bitsback_array.npy\"))\n",
    "true_bits_ais_bitsback_bitswap_array = np.load(os.path.join(dir_name, \"true_bits_ais_bitsback_bitswap_array.npy\"))\n",
    "\n",
    "# BB-IS\n",
    "true_bits_is_bitsback_array = np.load(os.path.join(dir_name, \"true_bits_is_bitsback_array.npy\"))\n",
    "\n",
    "# BB-CIS\n",
    "true_bits_cis_bitsback_array = np.load(os.path.join(dir_name, \"true_bits_cis_bitsback_array.npy\"))"
   ]
  },
  {
   "cell_type": "markdown",
   "metadata": {},
   "source": [
    "# Plot"
   ]
  },
  {
   "cell_type": "code",
   "execution_count": 16,
   "metadata": {},
   "outputs": [],
   "source": [
    "from matplotlib import rc\n",
    "from matplotlib import pyplot as plt\n",
    "\n",
    "# rc('text', usetex=True)\n",
    "# rc('font',**{'size':10, \"family\" : \"serif\", \"serif\" : \"Times\"})\n",
    "# rc('text.latex', preamble=r'\\usepackage{amsfonts}')\n",
    "# plt.style.use('default')"
   ]
  },
  {
   "cell_type": "code",
   "execution_count": 17,
   "metadata": {},
   "outputs": [],
   "source": [
    "plot_max = 8\n",
    "\n",
    "plot_marker_style = {'marker': 'o', 'markersize': 3}\n",
    "scatter_marker_style = {'marker': 'x', 's': 60}"
   ]
  },
  {
   "cell_type": "markdown",
   "metadata": {},
   "source": [
    "## Initial Bits Plot"
   ]
  },
  {
   "cell_type": "code",
   "execution_count": 18,
   "metadata": {},
   "outputs": [
    {
     "data": {
      "image/png": "[encoded data removed]",
      "text/plain": [
       "<Figure size 432x288 with 1 Axes>"
      ]
     },
     "metadata": {
      "needs_background": "light"
     },
     "output_type": "display_data"
    }
   ],
   "source": [
    "fig, ax = plt.subplots(nrows=1, ncols=1)\n",
    "bb_ais, = ax.plot(ais_steps_array[:plot_max], true_bits_ais_bitsback_array[:plot_max], label=r'BB-AIS', **plot_marker_style)\n",
    "bb_ais_bitswap, = ax.plot(ais_steps_array[:plot_max], true_bits_ais_bitsback_bitswap_array[:plot_max], label=r'BB-AIS (BitSwap)', **plot_marker_style)\n",
    "bb_is, = ax.plot(num_particles_array[:plot_max], true_bits_is_bitsback_array[:plot_max], label=r'BB-IS', **plot_marker_style)\n",
    "bb_cis, = ax.plot(num_particles_array[:plot_max], true_bits_cis_bitsback_array[:plot_max], label=r'BB-CIS', **plot_marker_style)\n",
    "bb_elbo = ax.axhline(true_bits_bitsback, label=r'BB-ELBO', ls='--')\n",
    "\n",
    "ax.legend(frameon=True)\n",
    "ax.set_xlabel(r'$N$')\n",
    "ax.set_ylabel('Total Bitrate')\n",
    "# ax.set_xscale('log', basex=2)\n",
    "ax.set_xticks(num_particles_array[1:plot_max])\n",
    "plt.legend()\n",
    "\n",
    "plt.show()"
   ]
  }
 ],
 "metadata": {
  "kernelspec": {
   "display_name": "Python 3",
   "language": "python",
   "name": "python3"
  },
  "language_info": {
   "codemirror_mode": {
    "name": "ipython",
    "version": 3
   },
   "file_extension": ".py",
   "mimetype": "text/x-python",
   "name": "python",
   "nbconvert_exporter": "python",
   "pygments_lexer": "ipython3",
   "version": "3.6.10"
  },
  "pycharm": {
   "stem_cell": {
    "cell_type": "raw",
    "metadata": {
     "collapsed": false
    },
    "source": []
   }
  }
 },
 "nbformat": 4,
 "nbformat_minor": 4
}
