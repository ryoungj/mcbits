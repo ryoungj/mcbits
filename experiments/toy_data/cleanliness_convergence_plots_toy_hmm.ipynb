{
 "cells": [
  {
   "cell_type": "code",
   "execution_count": 1,
   "metadata": {},
   "outputs": [],
   "source": [
    "import os\n",
    "import sys\n",
    "import numpy as np\n",
    "import collections\n",
    "import argparse\n",
    "from numpy import ones, tile\n",
    "from mcbits import coders, util\n",
    "from models.toy_hmm_model import HMMToyModel\n",
    "import random\n",
    "\n",
    "exp_name = \"cleanliness_convergence_plots_toy_hmm\"\n",
    "dir_name = os.path.join('./save', exp_name)\n",
    "if not os.path.exists(dir_name):\n",
    "    os.makedirs(dir_name)"
   ]
  },
  {
   "cell_type": "markdown",
   "metadata": {},
   "source": [
    "# Arguments"
   ]
  },
  {
   "cell_type": "code",
   "execution_count": 2,
   "metadata": {},
   "outputs": [],
   "source": [
    "# toy experiment parameters, use smaller values to get results faster\n",
    "alphabet_size = 16\n",
    "latent_alphabet_size = 32\n",
    "length = 10\n",
    "message_length = 2000\n",
    "\n",
    "# rANS stack parameters\n",
    "mprec = 16\n",
    "bprec = 32\n",
    "lprec = 32\n",
    "\n",
    "# increase the num of particles from [1, 2, ..., 2^log_max]\n",
    "log_max = 8"
   ]
  },
  {
   "cell_type": "markdown",
   "metadata": {},
   "source": [
    "# Toy HMM Model"
   ]
  },
  {
   "cell_type": "code",
   "execution_count": 3,
   "metadata": {},
   "outputs": [],
   "source": [
    "np.random.seed(1234)\n",
    "\n",
    "# model\n",
    "model = HMMToyModel(latent_alphabet_size, alphabet_size, length)\n",
    "\n",
    "# get message\n",
    "message = model.sample_message(message_length)\n",
    "\n",
    "# NOTE: we use the average negative logprob as the ENTROPY\n",
    "ENTROPY = - model.log_prob(message) / message_length\n",
    "\n",
    "# uniform distribution as posterior\n",
    "prop_counts = lambda x, state=None: np.ones((model.lals,)) / model.lals\n",
    "\n",
    "def get_trans_count_stat_func(z_prev, state=None):\n",
    "    if z_prev is None:\n",
    "        return util.Categorical(mprec, model.prior_probs, use_make_sum_to_M=True)\n",
    "    else:\n",
    "        return util.Categorical(mprec, model.transition_probs[z_prev], use_make_sum_to_M=True)"
   ]
  },
  {
   "cell_type": "code",
   "execution_count": 4,
   "metadata": {},
   "outputs": [],
   "source": [
    "# base coder arguments\n",
    "coder_class = coders.SMCBitsBackCoder\n",
    "coder_kwargs = {\n",
    "    \"init_state\": lambda : None,\n",
    "    \"update_state\": lambda cur_state=None, x_t=None, z_t=None: None,\n",
    "    \"get_prop_count_stat_func\": lambda x_t, cur_state=None: util.Categorical(mprec, prop_counts(x_t, cur_state), use_make_sum_to_M=True),\n",
    "    \"get_cond_count_stat_func\": lambda z_t, cur_state=None: util.Categorical(mprec, model.emission_probs[z_t], use_make_sum_to_M=True),\n",
    "    \"get_trans_count_stat_func\": get_trans_count_stat_func,\n",
    "    \"default_symlen\": length,\n",
    "    \"mprec\": mprec, \"lprec\": lprec, \"bprec\": bprec,\n",
    "    \"multidim\": False, \"use_statfunc\": False,\n",
    "}"
   ]
  },
  {
   "cell_type": "markdown",
   "metadata": {},
   "source": [
    "# BB-ELBO Coder"
   ]
  },
  {
   "cell_type": "code",
   "execution_count": 5,
   "metadata": {},
   "outputs": [
    {
     "name": "stdout",
     "output_type": "stream",
     "text": [
      "BB-ELBO\n",
      "\tentropy : 39.97538123749399\n",
      "\tideal bit length : 46.10800913833613\n",
      "\ttrue bit length : 48.294297271196676\n",
      "\ttrue net bit length : 48.24629727119668\n"
     ]
    }
   ],
   "source": [
    "# NOTE: BB-SIS equals to BB-SMC without resampling and # particles = 1\n",
    "\n",
    "coder_kwargs[\"num_particles\"] = 1\n",
    "coder_kwargs[\"resample\"] = False\n",
    "coder_kwargs[\"adaptive\"] = False\n",
    "\n",
    "# NOTE: we use the average negative sis approximation of the logprob as the ideal length\n",
    "ideal_bits_bitsback = -model.log_prob(message, method=\"smc\", N=1, \n",
    "                                          prop_counts=prop_counts, resampling=False, adaptive=False)/message_length\n",
    "\n",
    "coder = coder_class(**coder_kwargs)\n",
    "coder.encode(message)\n",
    "true_bits_bitsback = coder.bit_length / message_length\n",
    "true_net_bits_bitsback = coder.net_bit_length / message_length\n",
    "\n",
    "\n",
    "print(f\"BB-ELBO\")\n",
    "print(f\"\\tentropy : {ENTROPY}\")\n",
    "print(f\"\\tideal bit length : {ideal_bits_bitsback}\")\n",
    "print(f\"\\ttrue bit length : {true_bits_bitsback}\")\n",
    "print(f\"\\ttrue net bit length : {true_net_bits_bitsback}\")"
   ]
  },
  {
   "cell_type": "markdown",
   "metadata": {},
   "source": [
    "## Save"
   ]
  },
  {
   "cell_type": "code",
   "execution_count": 6,
   "metadata": {},
   "outputs": [],
   "source": [
    "np.save(os.path.join(dir_name, \"entropy\"), np.array([ENTROPY]))\n",
    "np.save(os.path.join(dir_name, \"ideal_bits_bitsback\"), np.array([ideal_bits_bitsback]))\n",
    "np.save(os.path.join(dir_name, \"true_bits_bitsback\"), np.array([true_bits_bitsback]))\n",
    "np.save(os.path.join(dir_name, \"true_net_bits_bitsback\"), np.array([true_net_bits_bitsback]))"
   ]
  },
  {
   "cell_type": "markdown",
   "metadata": {},
   "source": [
    "# BB-SMC Coder"
   ]
  },
  {
   "cell_type": "markdown",
   "metadata": {},
   "source": [
    "## Compute compression rate vs # particles"
   ]
  },
  {
   "cell_type": "code",
   "execution_count": 7,
   "metadata": {},
   "outputs": [
    {
     "name": "stdout",
     "output_type": "stream",
     "text": [
      "[1, 2, 4, 8, 16, 32, 64, 128, 256]\n"
     ]
    }
   ],
   "source": [
    "num_particles_array = list(2 ** np.arange(log_max + 1))\n",
    "print(num_particles_array)"
   ]
  },
  {
   "cell_type": "code",
   "execution_count": 8,
   "metadata": {},
   "outputs": [
    {
     "name": "stdout",
     "output_type": "stream",
     "text": [
      "SMC # Particles=1\n",
      "\tentropy : 39.97538123749399\n",
      "\tideal bit length : 46.07653326274759\n",
      "\ttrue bit length : 48.365250093552234\n",
      "\ttrue net bit length : 48.31725009355223\n",
      "SMC # Particles=2\n",
      "\tentropy : 39.97538123749399\n",
      "\tideal bit length : 42.88694142008018\n",
      "\ttrue bit length : 42.92209691444339\n",
      "\ttrue net bit length : 42.84209691444338\n",
      "SMC # Particles=4\n",
      "\tentropy : 39.97538123749399\n",
      "\tideal bit length : 41.29179890985434\n",
      "\ttrue bit length : 41.45187192166283\n",
      "\ttrue net bit length : 41.29187192166283\n",
      "SMC # Particles=16\n",
      "\tentropy : 39.97538123749399\n",
      "\tideal bit length : 40.29913436683707\n",
      "\ttrue bit length : 40.97732685157131\n",
      "\ttrue net bit length : 40.305326851571316\n",
      "SMC # Particles=32\n",
      "\tentropy : 39.97538123749399\n",
      "\tideal bit length : 40.10792989629929\n",
      "\ttrue bit length : 41.66029471928586\n",
      "\ttrue net bit length : 40.17229471928586\n",
      "SMC # Particles=64\n",
      "\tentropy : 39.97538123749399\n",
      "\tideal bit length : 40.045503189227404\n",
      "\ttrue bit length : 43.34835620189788\n",
      "\ttrue net bit length : 40.13235620189788\n",
      "SMC # Particles=128\n",
      "\tentropy : 39.97538123749399\n",
      "\tideal bit length : 40.014259814681964\n",
      "\ttrue bit length : 47.113594031250784\n",
      "\ttrue net bit length : 40.10559403125078\n",
      "SMC # Particles=256\n",
      "\tentropy : 39.97538123749399\n",
      "\tideal bit length : 39.993073347678134\n",
      "\ttrue bit length : 55.17006456391938\n",
      "\ttrue net bit length : 40.03406456391938\n"
     ]
    }
   ],
   "source": [
    "ideal_bits_smc_bitsback_array = [] \n",
    "true_bits_smc_bitsback_array = []\n",
    "true_net_bits_smc_bitsback_array = []\n",
    "\n",
    "for num_particles in num_particles_array:\n",
    "    coder_kwargs[\"num_particles\"] = num_particles\n",
    "    \n",
    "    coder_kwargs[\"resample\"] = True\n",
    "    coder_kwargs[\"adaptive\"] = False\n",
    "    \n",
    "    # NOTE: we use the average negative smc approximation of the logprob as the ideal length\n",
    "    ideal_bits_smc_bitsback = -model.log_prob(message, method=\"smc\", N=num_particles, \n",
    "                                              prop_counts=prop_counts, resampling=True, adaptive=False)/message_length\n",
    "\n",
    "    \n",
    "    coder = coder_class(**coder_kwargs)\n",
    "    coder.encode(message)\n",
    "    true_bits_smc_bitsback = coder.bit_length / message_length\n",
    "    true_net_bits_smc_bitsback = coder.net_bit_length / message_length\n",
    "    \n",
    "    \n",
    "    print(f\"SMC # Particles={num_particles}\")\n",
    "    print(f\"\\tentropy : {ENTROPY}\")\n",
    "    print(f\"\\tideal bit length : {ideal_bits_smc_bitsback}\")\n",
    "    print(f\"\\ttrue bit length : {true_bits_smc_bitsback}\")\n",
    "    print(f\"\\ttrue net bit length : {true_net_bits_smc_bitsback}\")\n",
    "\n",
    "    ideal_bits_smc_bitsback_array.append(ideal_bits_smc_bitsback)\n",
    "    true_bits_smc_bitsback_array.append(true_bits_smc_bitsback)\n",
    "    true_net_bits_smc_bitsback_array.append(true_net_bits_smc_bitsback)\n",
    "\n",
    "# for consistency\n",
    "ideal_bits_smc_bitsback_array[0] = ideal_bits_bitsback\n",
    "true_bits_smc_bitsback_array[0] = true_bits_bitsback\n",
    "true_net_bits_smc_bitsback_array[0] = true_net_bits_bitsback"
   ]
  },
  {
   "cell_type": "markdown",
   "metadata": {},
   "source": [
    "## Save"
   ]
  },
  {
   "cell_type": "code",
   "execution_count": 9,
   "metadata": {},
   "outputs": [],
   "source": [
    "np.save(os.path.join(dir_name, \"ideal_bits_smc_bitsback_array\"), np.array(ideal_bits_smc_bitsback_array))\n",
    "np.save(os.path.join(dir_name, \"true_bits_smc_bitsback_array\"), np.array(true_bits_smc_bitsback_array))\n",
    "np.save(os.path.join(dir_name, \"true_net_bits_smc_bitsback_array\"), np.array(true_net_bits_smc_bitsback_array))"
   ]
  },
  {
   "cell_type": "markdown",
   "metadata": {},
   "source": [
    "# BB-SIS Coder"
   ]
  },
  {
   "cell_type": "markdown",
   "metadata": {},
   "source": [
    "## Compute compression rate vs # particles"
   ]
  },
  {
   "cell_type": "code",
   "execution_count": 10,
   "metadata": {},
   "outputs": [
    {
     "name": "stdout",
     "output_type": "stream",
     "text": [
      "SIS # Particles=1\n",
      "\tentropy : 39.97538123749399\n",
      "\tideal bit length : 45.963768441460424\n",
      "\ttrue bit length : 48.360511990407346\n",
      "\ttrue net bit length : 48.312511990407344\n",
      "SIS # Particles=2\n",
      "\tentropy : 39.97538123749399\n",
      "\tideal bit length : 44.157449196283444\n",
      "\ttrue bit length : 44.42736004138657\n",
      "\ttrue net bit length : 44.34736004138657\n",
      "SIS # Particles=4\n",
      "\tentropy : 39.97538123749399\n",
      "\tideal bit length : 42.81182992690225\n",
      "\ttrue bit length : 42.97911501002739\n",
      "\ttrue net bit length : 42.85111501002739\n",
      "SIS # Particles=8\n",
      "\tentropy : 39.97538123749399\n",
      "\tideal bit length : 41.95497886509199\n",
      "\ttrue bit length : 42.17508354819177\n",
      "\ttrue net bit length : 41.951083548191775\n",
      "SIS # Particles=16\n",
      "\tentropy : 39.97538123749399\n",
      "\tideal bit length : 41.31891356998525\n",
      "\ttrue bit length : 41.86306352512496\n",
      "\ttrue net bit length : 41.431063525124955\n",
      "SIS # Particles=32\n",
      "\tentropy : 39.97538123749399\n",
      "\tideal bit length : 40.82851328639524\n",
      "\ttrue bit length : 41.86774222695562\n",
      "\ttrue net bit length : 41.03574222695562\n",
      "SIS # Particles=64\n",
      "\tentropy : 39.97538123749399\n",
      "\tideal bit length : 40.52166187747873\n",
      "\ttrue bit length : 42.35420041814461\n",
      "\ttrue net bit length : 40.72220041814461\n",
      "SIS # Particles=128\n",
      "\tentropy : 39.97538123749399\n",
      "\tideal bit length : 40.36537888463558\n",
      "\ttrue bit length : 43.704820962332306\n",
      "\ttrue net bit length : 40.47282096233231\n",
      "SIS # Particles=256\n",
      "\tentropy : 39.97538123749399\n",
      "\tideal bit length : 40.19519974755317\n",
      "\ttrue bit length : 46.69315335596521\n",
      "\ttrue net bit length : 40.261153355965206\n"
     ]
    }
   ],
   "source": [
    "ideal_bits_sis_bitsback_array = [] \n",
    "true_bits_sis_bitsback_array = []\n",
    "true_net_bits_sis_bitsback_array = []\n",
    "\n",
    "for num_particles in num_particles_array:\n",
    "    coder_kwargs[\"num_particles\"] = num_particles\n",
    "    \n",
    "    # NOTE: BB-SIS equals to BB-SMC without resampling \n",
    "    coder_kwargs[\"resample\"] = False\n",
    "    coder_kwargs[\"adaptive\"] = False\n",
    "    \n",
    "    # NOTE: we use the average negative sis approximation of the logprob as the ideal length\n",
    "    ideal_bits_sis_bitsback = -model.log_prob(message, method=\"smc\", N=num_particles, \n",
    "                                              prop_counts=prop_counts, resampling=False, adaptive=False)/message_length\n",
    "\n",
    "    coder = coder_class(**coder_kwargs)\n",
    "    coder.encode(message)\n",
    "    true_bits_sis_bitsback = coder.bit_length / message_length\n",
    "    true_net_bits_sis_bitsback = coder.net_bit_length / message_length\n",
    "    \n",
    "    \n",
    "    print(f\"SIS # Particles={num_particles}\")\n",
    "    print(f\"\\tentropy : {ENTROPY}\")\n",
    "    print(f\"\\tideal bit length : {ideal_bits_sis_bitsback}\")\n",
    "    print(f\"\\ttrue bit length : {true_bits_sis_bitsback}\")\n",
    "    print(f\"\\ttrue net bit length : {true_net_bits_sis_bitsback}\")\n",
    "\n",
    "    ideal_bits_sis_bitsback_array.append(ideal_bits_sis_bitsback)\n",
    "    true_bits_sis_bitsback_array.append(true_bits_sis_bitsback)\n",
    "    true_net_bits_sis_bitsback_array.append(true_net_bits_sis_bitsback)\n",
    "\n",
    "# for consistency\n",
    "ideal_bits_sis_bitsback_array[0] = ideal_bits_bitsback\n",
    "true_bits_sis_bitsback_array[0] = true_bits_bitsback\n",
    "true_net_bits_sis_bitsback_array[0] = true_net_bits_bitsback"
   ]
  },
  {
   "cell_type": "markdown",
   "metadata": {},
   "source": [
    "## Save"
   ]
  },
  {
   "cell_type": "code",
   "execution_count": 11,
   "metadata": {},
   "outputs": [],
   "source": [
    "np.save(os.path.join(dir_name, \"ideal_bits_sis_bitsback_array\"), np.array(ideal_bits_sis_bitsback_array))\n",
    "np.save(os.path.join(dir_name, \"true_bits_sis_bitsback_array\"), np.array(true_bits_sis_bitsback_array))\n",
    "np.save(os.path.join(dir_name, \"true_net_bits_sis_bitsback_array\"), np.array(true_net_bits_sis_bitsback_array))"
   ]
  },
  {
   "cell_type": "markdown",
   "metadata": {},
   "source": [
    "# Load"
   ]
  },
  {
   "cell_type": "code",
   "execution_count": 12,
   "metadata": {},
   "outputs": [],
   "source": [
    "# BB-ELBO\n",
    "ENTROPY = np.load(os.path.join(dir_name, \"entropy.npy\"))[0]\n",
    "ideal_bits_bitsback = np.load(os.path.join(dir_name, \"ideal_bits_bitsback.npy\"))[0]\n",
    "true_bits_bitsback = np.load(os.path.join(dir_name, \"true_bits_bitsback.npy\"))[0]\n",
    "true_net_bits_bitsback = np.load(os.path.join(dir_name, \"true_net_bits_bitsback.npy\"))[0]\n",
    "\n",
    "# BB-SIS\n",
    "ideal_bits_sis_bitsback_array = np.load(os.path.join(dir_name, \"ideal_bits_sis_bitsback_array.npy\"))\n",
    "true_bits_sis_bitsback_array = np.load(os.path.join(dir_name, \"true_bits_sis_bitsback_array.npy\"))\n",
    "true_net_bits_sis_bitsback_array = np.load(os.path.join(dir_name, \"true_net_bits_sis_bitsback_array.npy\"))\n",
    "\n",
    "# BB-SMC\n",
    "ideal_bits_smc_bitsback_array = np.load(os.path.join(dir_name, \"ideal_bits_smc_bitsback_array.npy\"))\n",
    "true_bits_smc_bitsback_array = np.load(os.path.join(dir_name, \"true_bits_smc_bitsback_array.npy\"))\n",
    "true_net_bits_smc_bitsback_array = np.load(os.path.join(dir_name, \"true_net_bits_smc_bitsback_array.npy\"))"
   ]
  },
  {
   "cell_type": "markdown",
   "metadata": {},
   "source": [
    "# Plot"
   ]
  },
  {
   "cell_type": "code",
   "execution_count": 13,
   "metadata": {},
   "outputs": [],
   "source": [
    "from matplotlib import rc\n",
    "from matplotlib import pyplot as plt\n",
    "\n",
    "# rc('text', usetex=True)\n",
    "# rc('font',**{'size':10, \"family\" : \"serif\", \"serif\" : \"Times\"})\n",
    "# rc('text.latex', preamble=r'\\usepackage{amsfonts}')\n",
    "# rc('text.latex', unicode=True)"
   ]
  },
  {
   "cell_type": "code",
   "execution_count": 14,
   "metadata": {},
   "outputs": [],
   "source": [
    "plot_max = 9\n",
    "\n",
    "plot_marker_style = {'marker': 'o', 'markersize': 3}\n",
    "scatter_marker_style = {'marker': 'x', 's': 60}"
   ]
  },
  {
   "cell_type": "markdown",
   "metadata": {},
   "source": [
    "## Cleanliness Plot"
   ]
  },
  {
   "cell_type": "code",
   "execution_count": 15,
   "metadata": {},
   "outputs": [
    {
     "data": {
      "image/png": "[encoded data removed]",
      "text/plain": [
       "<Figure size 432x288 with 1 Axes>"
      ]
     },
     "metadata": {
      "needs_background": "light"
     },
     "output_type": "display_data"
    }
   ],
   "source": [
    "fig, ax = plt.subplots(nrows=1, ncols=1)\n",
    "bb_smc, = ax.plot(ideal_bits_smc_bitsback_array[:plot_max], true_net_bits_smc_bitsback_array[:plot_max], label=\"BB-SMC\", **plot_marker_style)\n",
    "bb_sis, = ax.plot(ideal_bits_sis_bitsback_array[:plot_max], true_net_bits_sis_bitsback_array[:plot_max], label=\"BB-IS\", **plot_marker_style)\n",
    "bb_elbo = ax.scatter([ideal_bits_bitsback], [true_net_bits_bitsback], label=\"BB-ELBO\", c='b', **scatter_marker_style)\n",
    "bb_ideal = ax.scatter([ENTROPY], [ENTROPY], label=\"Entropy\", c='r', **scatter_marker_style)\n",
    "\n",
    "\n",
    "start = 39.5\n",
    "end = 49.0\n",
    "ax.set_xlim([start, end])\n",
    "ax.set_ylim([start, end])\n",
    "ax.plot([start, end], [start, end], ls='--', c='gray')\n",
    "ax.legend()\n",
    "ax.set_xlabel(\"Ideal Bitrate\")\n",
    "ax.set_ylabel(\"Net Bitrate\")\n",
    "\n",
    "plt.show()"
   ]
  },
  {
   "cell_type": "markdown",
   "metadata": {},
   "source": [
    "## Convergence Plot"
   ]
  },
  {
   "cell_type": "code",
   "execution_count": 18,
   "metadata": {},
   "outputs": [
    {
     "name": "stderr",
     "output_type": "stream",
     "text": [
      "/scratch/ssd002/home/ryoungj/conda_envs/mcbits_test/lib/python3.6/site-packages/ipykernel_launcher.py:10: MatplotlibDeprecationWarning: The 'basex' parameter of __init__() has been renamed 'base' since Matplotlib 3.3; support for the old name will be dropped two minor releases later.\n",
      "  # Remove the CWD from sys.path while we load stuff.\n"
     ]
    },
    {
     "data": {
      "image/png": "[encoded data removed]",
      "text/plain": [
       "<Figure size 432x288 with 1 Axes>"
      ]
     },
     "metadata": {
      "needs_background": "light"
     },
     "output_type": "display_data"
    }
   ],
   "source": [
    "fig, ax = plt.subplots(nrows=1, ncols=1)\n",
    "bb_smc, = ax.plot(num_particles_array[:plot_max], true_net_bits_smc_bitsback_array[:plot_max], label=\"BB-SMC\", **plot_marker_style)\n",
    "bb_sis, = ax.plot(num_particles_array[:plot_max], true_net_bits_sis_bitsback_array[:plot_max], label=\"BB-IS\", **plot_marker_style)\n",
    "bb_elbo = ax.axhline(true_net_bits_bitsback, label=r'BB-ELBO', c='b', ls='--')\n",
    "bb_ideal = ax.axhline(ENTROPY, label=r'Entropy', c='r', ls='--')\n",
    "\n",
    "ax.legend(frameon=True)\n",
    "ax.set_xlabel(r'$N$')\n",
    "ax.set_ylabel('Net Bitrate')\n",
    "ax.set_xscale('log', basex=2)\n",
    "plt.legend()\n",
    "\n",
    "plt.show()"
   ]
  }
 ],
 "metadata": {
  "kernelspec": {
   "display_name": "Python 3",
   "language": "python",
   "name": "python3"
  },
  "language_info": {
   "codemirror_mode": {
    "name": "ipython",
    "version": 3
   },
   "file_extension": ".py",
   "mimetype": "text/x-python",
   "name": "python",
   "nbconvert_exporter": "python",
   "pygments_lexer": "ipython3",
   "version": "3.6.10"
  },
  "pycharm": {
   "stem_cell": {
    "cell_type": "raw",
    "metadata": {
     "collapsed": false
    },
    "source": []
   }
  }
 },
 "nbformat": 4,
 "nbformat_minor": 4
}
