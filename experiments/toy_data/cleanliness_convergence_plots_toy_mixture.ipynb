{
 "cells": [
  {
   "cell_type": "code",
   "execution_count": 1,
   "metadata": {},
   "outputs": [],
   "source": [
    "import os\n",
    "import sys\n",
    "import numpy as np\n",
    "import collections\n",
    "import argparse\n",
    "from numpy import ones, tile\n",
    "from mcbits import coders, util\n",
    "from models.toy_model import ToyModel\n",
    "import random\n",
    "\n",
    "exp_name = \"cleanliness_convergence_plots_toy_mixture\"\n",
    "dir_name = os.path.join('./save', exp_name)\n",
    "if not os.path.exists(dir_name):\n",
    "    os.makedirs(dir_name)"
   ]
  },
  {
   "cell_type": "markdown",
   "metadata": {},
   "source": [
    "# Arguments"
   ]
  },
  {
   "cell_type": "code",
   "execution_count": 2,
   "metadata": {},
   "outputs": [],
   "source": [
    "# toy experiment parameters, use smaller values to get results faster\n",
    "alphabet_size = 64\n",
    "latent_alphabet_size = 256\n",
    "message_length = 2000\n",
    "\n",
    "# rANS stack parameters\n",
    "mprec = 16\n",
    "bprec = 32\n",
    "lprec = 32\n",
    "\n",
    "# increase the num of particles or ais steps from [1, 2, ..., 2^log_max]\n",
    "log_max = 7  "
   ]
  },
  {
   "cell_type": "markdown",
   "metadata": {},
   "source": [
    "# Toy Model"
   ]
  },
  {
   "cell_type": "code",
   "execution_count": 3,
   "metadata": {},
   "outputs": [],
   "source": [
    "np.random.seed(1234)\n",
    "random.seed(1234)\n",
    "\n",
    "# model\n",
    "model = ToyModel(latent_alphabet_size, alphabet_size)\n",
    "ENTROPY = model.entropy\n",
    "\n",
    "# get message\n",
    "message = model.sample_message(message_length)\n",
    "\n",
    "# uniform distribution as posterior\n",
    "prop_counts = (ones((latent_alphabet_size, alphabet_size))\n",
    "                   / latent_alphabet_size)"
   ]
  },
  {
   "cell_type": "markdown",
   "metadata": {},
   "source": [
    "# Count Stat Funcs"
   ]
  },
  {
   "cell_type": "code",
   "execution_count": 4,
   "metadata": {},
   "outputs": [],
   "source": [
    "prior_count_stat_func_cache = util.Categorical(mprec, model.z_probs, use_make_sum_to_M=True)\n",
    "\n",
    "def get_prior_count_stat_func():\n",
    "    return prior_count_stat_func_cache\n",
    "\n",
    "prop_count_stat_func_cache = {}\n",
    "def get_prop_count_stat_func(x):\n",
    "    if x in prop_count_stat_func_cache:\n",
    "        return prop_count_stat_func_cache[x]\n",
    "    else:  \n",
    "        stat_func = util.Categorical(mprec, prop_counts[:, x], use_make_sum_to_M=True)\n",
    "        prop_count_stat_func_cache[x] = stat_func\n",
    "        \n",
    "        return stat_func\n",
    "\n",
    "cond_count_stat_func_cache = {}\n",
    "def get_cond_count_stat_func(z): \n",
    "    if z in cond_count_stat_func_cache:\n",
    "        return cond_count_stat_func_cache[z]\n",
    "    else:\n",
    "        stat_func = util.Categorical(mprec, model.cond_probs[z], use_make_sum_to_M=True)\n",
    "        cond_count_stat_func_cache[z] = stat_func\n",
    "        \n",
    "        return stat_func\n",
    "    \n",
    "joint_count_stat_func_cache_z = {}\n",
    "joint_count_stat_func_cache_x = {}\n",
    "\n",
    "def get_joint_count_stat_func(z=None, x=None):\n",
    "    if z is not None and x is None:\n",
    "        if z in joint_count_stat_func_cache_z:\n",
    "            return joint_count_stat_func_cache_z[z]\n",
    "        else:\n",
    "            stat_func = util.Categorical(mprec, model.joint_probs[z], use_make_sum_to_M=True)\n",
    "            joint_count_stat_func_cache_z[z] = stat_func\n",
    "            \n",
    "            return stat_func\n",
    "    elif x is not None and z is None:\n",
    "        if x in joint_count_stat_func_cache_x:\n",
    "            return joint_count_stat_func_cache_x[x]\n",
    "        else:\n",
    "            stat_func = util.Categorical(mprec, model.joint_probs[:, x], use_make_sum_to_M=True)\n",
    "            joint_count_stat_func_cache_x[x] = stat_func\n",
    "            \n",
    "            return stat_func\n",
    "    else:\n",
    "        raise Exception(\"Bad arg to joint_count_stat_func_fn.\")"
   ]
  },
  {
   "cell_type": "markdown",
   "metadata": {},
   "source": [
    "# BB-ELBO Coder"
   ]
  },
  {
   "cell_type": "markdown",
   "metadata": {},
   "source": [
    "## Compute compression rate  "
   ]
  },
  {
   "cell_type": "code",
   "execution_count": 5,
   "metadata": {},
   "outputs": [
    {
     "name": "stdout",
     "output_type": "stream",
     "text": [
      "BB\n",
      "\tentropy : 5.99898138642992\n",
      "\tideal bit length : 6.332292098705365\n",
      "\ttrue bit length : 6.660829297178408\n",
      "\ttrue net bit length : 6.628829297178408\n"
     ]
    }
   ],
   "source": [
    "coder_class = coders.BitsBackCoder\n",
    "\n",
    "coder_kwargs = {\n",
    "    \"get_prior_count_stat_func\": get_prior_count_stat_func,\n",
    "    \"get_prop_count_stat_func\": get_prop_count_stat_func,\n",
    "    \"get_cond_count_stat_func\": get_cond_count_stat_func,\n",
    "    \"mprec\": mprec, \"lprec\": lprec, \"bprec\": bprec, \"multidim\": False, \"use_statfunc\": False,\n",
    "}\n",
    "\n",
    "ideal_bits_bitsback = model.elbo_code(prop_counts)\n",
    "\n",
    "coder = coder_class(**coder_kwargs)\n",
    "coder.encode(message)\n",
    "true_bits_bitsback = coder.bit_length / message_length\n",
    "true_net_bits_bitsback = coder.net_bit_length / message_length\n",
    "\n",
    "\n",
    "print(f\"BB\")\n",
    "print(f\"\\tentropy : {ENTROPY}\")\n",
    "print(f\"\\tideal bit length : {ideal_bits_bitsback}\")\n",
    "print(f\"\\ttrue bit length : {true_bits_bitsback}\")\n",
    "print(f\"\\ttrue net bit length : {true_net_bits_bitsback}\")"
   ]
  },
  {
   "cell_type": "markdown",
   "metadata": {},
   "source": [
    "## Save"
   ]
  },
  {
   "cell_type": "code",
   "execution_count": 6,
   "metadata": {},
   "outputs": [],
   "source": [
    "np.save(os.path.join(dir_name, \"entropy\"), np.array([ENTROPY]))\n",
    "np.save(os.path.join(dir_name, \"ideal_bits_bitsback\"), np.array([ideal_bits_bitsback]))\n",
    "np.save(os.path.join(dir_name, \"true_bits_bitsback\"), np.array([true_bits_bitsback]))\n",
    "np.save(os.path.join(dir_name, \"true_net_bits_bitsback\"), np.array([true_net_bits_bitsback]))"
   ]
  },
  {
   "cell_type": "markdown",
   "metadata": {},
   "source": [
    "# BB-AIS Coder"
   ]
  },
  {
   "cell_type": "markdown",
   "metadata": {},
   "source": [
    "## Compute compression rate vs AIS steps"
   ]
  },
  {
   "cell_type": "code",
   "execution_count": 7,
   "metadata": {},
   "outputs": [
    {
     "name": "stdout",
     "output_type": "stream",
     "text": [
      "[1, 2, 4, 8, 16, 32, 64, 128]\n"
     ]
    }
   ],
   "source": [
    "ais_steps_array = list(2 ** np.arange(log_max+1))\n",
    "print(ais_steps_array)"
   ]
  },
  {
   "cell_type": "code",
   "execution_count": 8,
   "metadata": {},
   "outputs": [
    {
     "name": "stdout",
     "output_type": "stream",
     "text": [
      "AIS STEPS=1\n",
      "\tentropy : 5.99898138642992\n",
      "\tideal bit length : 6.345717273236879\n",
      "\ttrue bit length : 6.660829297178408\n",
      "\ttrue net bit length : 6.628829297178408\n",
      "\ttrue bit length (bitswap) : 6.660829297178408\n",
      "\ttrue net bit length (bitswap) : 6.628829297178408\n",
      "AIS STEPS=2\n",
      "\tentropy : 5.99898138642992\n",
      "\tideal bit length : 6.185984582306357\n",
      "\ttrue bit length : 6.231043452869427\n",
      "\ttrue net bit length : 6.199043452869427\n",
      "\ttrue bit length (bitswap) : 6.242775943711777\n",
      "\ttrue net bit length (bitswap) : 6.210775943711777\n",
      "AIS STEPS=4\n",
      "\tentropy : 5.99898138642992\n",
      "\tideal bit length : 6.094263764317175\n",
      "\ttrue bit length : 6.124027515743999\n",
      "\ttrue net bit length : 6.092027515743999\n",
      "\ttrue bit length (bitswap) : 6.13854611916751\n",
      "\ttrue net bit length (bitswap) : 6.10654611916751\n",
      "AIS STEPS=8\n",
      "\tentropy : 5.99898138642992\n",
      "\tideal bit length : 6.048099087866386\n",
      "\ttrue bit length : 6.088501290354724\n",
      "\ttrue net bit length : 6.040501290354724\n",
      "\ttrue bit length (bitswap) : 6.114489336087744\n",
      "\ttrue net bit length (bitswap) : 6.082489336087744\n",
      "AIS STEPS=16\n",
      "\tentropy : 5.99898138642992\n",
      "\tideal bit length : 6.02177532560942\n",
      "\ttrue bit length : 6.099708779561946\n",
      "\ttrue net bit length : 6.019708779561946\n",
      "\ttrue bit length (bitswap) : 6.105343073783446\n",
      "\ttrue net bit length (bitswap) : 6.073343073783446\n",
      "AIS STEPS=32\n",
      "\tentropy : 5.99898138642992\n",
      "\tideal bit length : 6.007814630681176\n",
      "\ttrue bit length : 6.150523898950695\n",
      "\ttrue net bit length : 6.006523898950695\n",
      "\ttrue bit length (bitswap) : 6.125547767118949\n",
      "\ttrue net bit length (bitswap) : 6.093547767118949\n",
      "AIS STEPS=64\n",
      "\tentropy : 5.99898138642992\n",
      "\tideal bit length : 6.0029766595025285\n",
      "\ttrue bit length : 6.260026694505498\n",
      "\ttrue net bit length : 6.004026694505498\n",
      "\ttrue bit length (bitswap) : 6.114554476656647\n",
      "\ttrue net bit length (bitswap) : 6.082554476656647\n",
      "AIS STEPS=128\n",
      "\tentropy : 5.99898138642992\n",
      "\tideal bit length : 6.00215898244685\n",
      "\ttrue bit length : 6.483388453984339\n",
      "\ttrue net bit length : 6.003388453984338\n",
      "\ttrue bit length (bitswap) : 6.115135153534853\n",
      "\ttrue net bit length (bitswap) : 6.083135153534853\n"
     ]
    }
   ],
   "source": [
    "coder_class = coders.AISBitsBackCoder\n",
    "\n",
    "# adjust coder kwargs for AIS coder\n",
    "coder_kwargs = {\n",
    "    \"get_prior_count_stat_func\": get_prior_count_stat_func,\n",
    "    \"get_prop_count_stat_func\": get_prop_count_stat_func,\n",
    "    \"get_cond_count_stat_func\": get_cond_count_stat_func,\n",
    "    \"get_joint_count_stat_func\": get_joint_count_stat_func,\n",
    "    \"mprec\": mprec, \"lprec\": lprec, \"bprec\": bprec, \"multidim\": False, \"use_statfunc\": False,\n",
    "}\n",
    "\n",
    "\n",
    "ideal_bits_ais_bitsback_array = [] \n",
    "true_bits_ais_bitsback_array = []\n",
    "true_net_bits_ais_bitsback_array = []\n",
    "true_bits_ais_bitsback_bitswap_array = []\n",
    "true_net_bits_ais_bitsback_bitswap_array = []\n",
    "\n",
    "for ais_steps in ais_steps_array:\n",
    "    coder_kwargs[\"betas\"] = np.flip(np.linspace(0, 1, ais_steps+1))\n",
    "    ideal_bits_ais_bitsback = model.ais_code(prop_counts, betas=coder_kwargs[\"betas\"])\n",
    "\n",
    "    coder_kwargs[\"bitswap\"] = False\n",
    "    coder = coder_class(**coder_kwargs)\n",
    "    coder.encode(message)\n",
    "    true_bits_ais_bitsback = coder.bit_length / message_length\n",
    "    true_net_bits_ais_bitsback = coder.net_bit_length / message_length\n",
    "\n",
    "    coder_kwargs[\"bitswap\"] = True\n",
    "    coder = coder_class(**coder_kwargs)\n",
    "    coder.encode(message)\n",
    "    true_bits_ais_bitsback_bitswap = coder.bit_length / message_length\n",
    "    true_net_bits_ais_bitsback_bitswap = coder.net_bit_length / message_length\n",
    "    \n",
    "    \n",
    "    print(f\"AIS STEPS={ais_steps}\")\n",
    "    print(f\"\\tentropy : {ENTROPY}\")\n",
    "    print(f\"\\tideal bit length : {ideal_bits_ais_bitsback}\")\n",
    "    print(f\"\\ttrue bit length : {true_bits_ais_bitsback}\")\n",
    "    print(f\"\\ttrue net bit length : {true_net_bits_ais_bitsback}\")\n",
    "    print(f\"\\ttrue bit length (bitswap) : {true_bits_ais_bitsback_bitswap}\")\n",
    "    print(f\"\\ttrue net bit length (bitswap) : {true_net_bits_ais_bitsback_bitswap}\")\n",
    "    \n",
    "\n",
    "    ideal_bits_ais_bitsback_array.append(ideal_bits_ais_bitsback)\n",
    "    true_bits_ais_bitsback_array.append(true_bits_ais_bitsback)\n",
    "    true_net_bits_ais_bitsback_array.append(true_net_bits_ais_bitsback)\n",
    "    true_bits_ais_bitsback_bitswap_array.append(true_bits_ais_bitsback_bitswap)\n",
    "    true_net_bits_ais_bitsback_bitswap_array.append(true_net_bits_ais_bitsback_bitswap)\n",
    "    \n",
    "ideal_bits_ais_bitsback_array[0] = ideal_bits_bitsback # for consistency"
   ]
  },
  {
   "cell_type": "markdown",
   "metadata": {},
   "source": [
    "## Save"
   ]
  },
  {
   "cell_type": "code",
   "execution_count": 9,
   "metadata": {},
   "outputs": [],
   "source": [
    "np.save(os.path.join(dir_name, \"ideal_bits_ais_bitsback_array\"), np.array(ideal_bits_ais_bitsback_array))\n",
    "np.save(os.path.join(dir_name, \"true_bits_ais_bitsback_array\"), np.array(true_bits_ais_bitsback_array))\n",
    "np.save(os.path.join(dir_name, \"true_net_bits_ais_bitsback_array\"), np.array(true_net_bits_ais_bitsback_array))\n",
    "np.save(os.path.join(dir_name, \"true_bits_ais_bitsback_bitswap_array\"), np.array(true_bits_ais_bitsback_bitswap_array))\n",
    "np.save(os.path.join(dir_name, \"true_net_bits_ais_bitsback_bitswap_array\"), np.array(true_net_bits_ais_bitsback_bitswap_array))"
   ]
  },
  {
   "cell_type": "markdown",
   "metadata": {},
   "source": [
    "# BB-IS Coder"
   ]
  },
  {
   "cell_type": "markdown",
   "metadata": {
    "pycharm": {
     "name": "#%% md\n"
    }
   },
   "source": [
    "## Compute compression rate vs # particles"
   ]
  },
  {
   "cell_type": "code",
   "execution_count": 10,
   "metadata": {
    "pycharm": {
     "name": "#%%\n"
    }
   },
   "outputs": [
    {
     "name": "stdout",
     "output_type": "stream",
     "text": [
      "[1, 2, 4, 8, 16, 32, 64, 128]\n"
     ]
    }
   ],
   "source": [
    "num_particles_array = list(2 ** np.arange(log_max+1))\n",
    "print(num_particles_array)"
   ]
  },
  {
   "cell_type": "code",
   "execution_count": 11,
   "metadata": {
    "pycharm": {
     "name": "#%%\n"
    }
   },
   "outputs": [
    {
     "name": "stdout",
     "output_type": "stream",
     "text": [
      "IS # Particles=1\n",
      "\tentropy : 5.99898138642992\n",
      "\tideal bit length : 6.313123186858758\n",
      "\ttrue bit length : 6.660829297178408\n",
      "\ttrue net bit length : 6.628829297178408\n",
      "IS # Particles=2\n",
      "\tentropy : 5.99898138642992\n",
      "\tideal bit length : 6.139340167746978\n",
      "\ttrue bit length : 6.183557768278365\n",
      "\ttrue net bit length : 6.151557768278365\n",
      "IS # Particles=4\n",
      "\tentropy : 5.99898138642992\n",
      "\tideal bit length : 6.060848507071258\n",
      "\ttrue bit length : 6.121066920157717\n",
      "\ttrue net bit length : 6.073066920157717\n",
      "IS # Particles=8\n",
      "\tentropy : 5.99898138642992\n",
      "\tideal bit length : 6.025293336561421\n",
      "\ttrue bit length : 6.093365235645762\n",
      "\ttrue net bit length : 6.029365235645763\n",
      "IS # Particles=16\n",
      "\tentropy : 5.99898138642992\n",
      "\tideal bit length : 6.012523459314045\n",
      "\ttrue bit length : 6.107857410335414\n",
      "\ttrue net bit length : 6.011857410335414\n",
      "IS # Particles=32\n",
      "\tentropy : 5.99898138642992\n",
      "\tideal bit length : 6.0037576402762225\n",
      "\ttrue bit length : 6.173790751678833\n",
      "\ttrue net bit length : 6.013790751678834\n",
      "IS # Particles=64\n",
      "\tentropy : 5.99898138642992\n",
      "\tideal bit length : 6.000666678101203\n",
      "\ttrue bit length : 6.297768969765564\n",
      "\ttrue net bit length : 6.009768969765564\n",
      "IS # Particles=128\n",
      "\tentropy : 5.99898138642992\n",
      "\tideal bit length : 6.000243862294312\n",
      "\ttrue bit length : 6.547659131337589\n",
      "\ttrue net bit length : 6.0036591313375895\n"
     ]
    }
   ],
   "source": [
    "coder_class = coders.ISBitsBackCoder\n",
    "\n",
    "coder_kwargs = {\n",
    "    \"get_prior_count_stat_func\": get_prior_count_stat_func,\n",
    "    \"get_prop_count_stat_func\": get_prop_count_stat_func,\n",
    "    \"get_cond_count_stat_func\": get_cond_count_stat_func,\n",
    "    \"mprec\": mprec, \"lprec\": lprec, \"bprec\": bprec, \"multidim\": False, \"use_statfunc\": False,\n",
    "}\n",
    "\n",
    "\n",
    "ideal_bits_is_bitsback_array = [] \n",
    "true_bits_is_bitsback_array = []\n",
    "true_net_bits_is_bitsback_array = []\n",
    "\n",
    "for num_particles in num_particles_array:\n",
    "    coder_kwargs[\"num_particles\"] = num_particles\n",
    "    ideal_bits_is_bitsback = model.is_code(prop_counts, num_particles=num_particles)\n",
    "\n",
    "    coder = coder_class(**coder_kwargs)\n",
    "    coder.encode(message)\n",
    "    true_bits_is_bitsback = coder.bit_length / message_length\n",
    "    true_net_bits_is_bitsback = coder.net_bit_length / message_length\n",
    "    \n",
    "    \n",
    "    print(f\"IS # Particles={num_particles}\")\n",
    "    print(f\"\\tentropy : {ENTROPY}\")\n",
    "    print(f\"\\tideal bit length : {ideal_bits_is_bitsback}\")\n",
    "    print(f\"\\ttrue bit length : {true_bits_is_bitsback}\")\n",
    "    print(f\"\\ttrue net bit length : {true_net_bits_is_bitsback}\")\n",
    "\n",
    "    ideal_bits_is_bitsback_array.append(ideal_bits_is_bitsback)\n",
    "    true_bits_is_bitsback_array.append(true_bits_is_bitsback)\n",
    "    true_net_bits_is_bitsback_array.append(true_net_bits_is_bitsback)\n",
    "    \n",
    "ideal_bits_is_bitsback_array[0] = ideal_bits_bitsback  # for consistency"
   ]
  },
  {
   "cell_type": "markdown",
   "metadata": {
    "pycharm": {
     "name": "#%% md\n"
    }
   },
   "source": [
    "## Save"
   ]
  },
  {
   "cell_type": "code",
   "execution_count": 12,
   "metadata": {},
   "outputs": [],
   "source": [
    "np.save(os.path.join(dir_name, \"ideal_bits_is_bitsback_array\"), np.array(ideal_bits_is_bitsback_array))\n",
    "np.save(os.path.join(dir_name, \"true_bits_is_bitsback_array\"), np.array(true_bits_is_bitsback_array))\n",
    "np.save(os.path.join(dir_name, \"true_net_bits_is_bitsback_array\"), np.array(true_net_bits_is_bitsback_array))"
   ]
  },
  {
   "cell_type": "markdown",
   "metadata": {},
   "source": [
    "# BB-CIS Coder"
   ]
  },
  {
   "cell_type": "code",
   "execution_count": 13,
   "metadata": {},
   "outputs": [
    {
     "name": "stdout",
     "output_type": "stream",
     "text": [
      "CIS # Particles=1\n",
      "\tentropy : 5.99898138642992\n",
      "\tideal bit length : 6.331864539585919\n",
      "\ttrue bit length : 6.628824619151356\n",
      "\ttrue net bit length : 6.596824619151356\n",
      "CIS # Particles=2\n",
      "\tentropy : 5.99898138642992\n",
      "\tideal bit length : 6.145967910181865\n",
      "\ttrue bit length : 6.186715189134724\n",
      "\ttrue net bit length : 6.154715189134724\n",
      "CIS # Particles=4\n",
      "\tentropy : 5.99898138642992\n",
      "\tideal bit length : 6.065314551376397\n",
      "\ttrue bit length : 6.106364545894613\n",
      "\ttrue net bit length : 6.074364545894613\n",
      "CIS # Particles=8\n",
      "\tentropy : 5.99898138642992\n",
      "\tideal bit length : 6.027942358754108\n",
      "\ttrue bit length : 6.05516643468244\n",
      "\ttrue net bit length : 6.02316643468244\n",
      "CIS # Particles=16\n",
      "\tentropy : 5.99898138642992\n",
      "\tideal bit length : 6.013738528014056\n",
      "\ttrue bit length : 6.048421573323136\n",
      "\ttrue net bit length : 6.016421573323136\n",
      "CIS # Particles=32\n",
      "\tentropy : 5.99898138642992\n",
      "\tideal bit length : 6.0048868786647045\n",
      "\ttrue bit length : 6.035459244605293\n",
      "\ttrue net bit length : 6.003459244605293\n",
      "CIS # Particles=64\n",
      "\tentropy : 5.99898138642992\n",
      "\tideal bit length : 6.003262050148146\n",
      "\ttrue bit length : 6.030498216046011\n",
      "\ttrue net bit length : 5.998498216046011\n",
      "CIS # Particles=128\n",
      "\tentropy : 5.99898138642992\n",
      "\tideal bit length : 6.000942762919904\n",
      "\ttrue bit length : 6.028665719637026\n",
      "\ttrue net bit length : 5.996665719637026\n"
     ]
    }
   ],
   "source": [
    "coder_class = coders.CISBitsBackCoder\n",
    "\n",
    "# for cis, we use shift sampling operators to generate other latents\n",
    "def shift_sampling(shift, precision):\n",
    "    assert 0.0 <= shift <= 1.0\n",
    "    upper = 1 << precision\n",
    "    shift_scaled = int(shift * upper)\n",
    "\n",
    "    def operator(u, prop_count_stat_func):\n",
    "        return (u + shift_scaled) % upper\n",
    "\n",
    "    def inverse_operator(u, prop_count_stat_func):\n",
    "        return (u - shift_scaled) % upper\n",
    "\n",
    "    return (operator, inverse_operator)\n",
    "\n",
    "\n",
    "coder_kwargs = {\n",
    "    \"get_prior_count_stat_func\": get_prior_count_stat_func,\n",
    "    \"get_prop_count_stat_func\": get_prop_count_stat_func,\n",
    "    \"get_cond_count_stat_func\": get_cond_count_stat_func,\n",
    "    \"mprec\": mprec, \"lprec\": lprec, \"bprec\": bprec, \"multidim\": False, \"use_statfunc\": False,\n",
    "}\n",
    "\n",
    "\n",
    "ideal_bits_cis_bitsback_array = [] \n",
    "true_bits_cis_bitsback_array = []\n",
    "true_net_bits_cis_bitsback_array = []\n",
    "\n",
    "for num_particles in num_particles_array:  \n",
    "    sampling_shifts = np.random.rand(num_particles-1,)\n",
    "    sampling_shifts = np.insert(sampling_shifts, 0, 0.0)\n",
    "    shift_sampling_operators = [shift_sampling(shift, mprec) for shift in sampling_shifts]\n",
    "\n",
    "    \n",
    "    ideal_bits_cis_bitsback = model.coupled_is_code(prop_counts, sampling_shifts, num_particles=num_particles)\n",
    "    \n",
    "    coder_kwargs[\"num_particles\"] = num_particles\n",
    "    coder_kwargs[\"bijective_operators\"] = shift_sampling_operators\n",
    "\n",
    "    coder = coder_class(**coder_kwargs)\n",
    "    coder.encode(message)\n",
    "    true_bits_cis_bitsback = coder.bit_length / message_length\n",
    "    true_net_bits_cis_bitsback = coder.net_bit_length / message_length\n",
    "    \n",
    "    \n",
    "    print(f\"CIS # Particles={num_particles}\")\n",
    "    print(f\"\\tentropy : {ENTROPY}\")\n",
    "    print(f\"\\tideal bit length : {ideal_bits_cis_bitsback}\")\n",
    "    print(f\"\\ttrue bit length : {true_bits_cis_bitsback}\")\n",
    "    print(f\"\\ttrue net bit length : {true_net_bits_cis_bitsback}\")\n",
    "\n",
    "    ideal_bits_cis_bitsback_array.append(ideal_bits_cis_bitsback)\n",
    "    true_bits_cis_bitsback_array.append(true_bits_cis_bitsback)\n",
    "    true_net_bits_cis_bitsback_array.append(true_net_bits_cis_bitsback)\n",
    "    \n",
    "ideal_bits_cis_bitsback_array[0] = ideal_bits_bitsback # for consistency"
   ]
  },
  {
   "cell_type": "markdown",
   "metadata": {},
   "source": [
    "## Save"
   ]
  },
  {
   "cell_type": "code",
   "execution_count": 14,
   "metadata": {},
   "outputs": [],
   "source": [
    "np.save(os.path.join(dir_name, \"ideal_bits_cis_bitsback_array\"), np.array(ideal_bits_cis_bitsback_array))\n",
    "np.save(os.path.join(dir_name, \"true_bits_cis_bitsback_array\"), np.array(true_bits_cis_bitsback_array))\n",
    "np.save(os.path.join(dir_name, \"true_net_bits_cis_bitsback_array\"), np.array(true_net_bits_cis_bitsback_array))"
   ]
  },
  {
   "cell_type": "markdown",
   "metadata": {},
   "source": [
    "# Load"
   ]
  },
  {
   "cell_type": "code",
   "execution_count": 15,
   "metadata": {},
   "outputs": [],
   "source": [
    "# BB-ELBO\n",
    "ENTROPY = np.load(os.path.join(dir_name, \"entropy.npy\"))[0]\n",
    "ideal_bits_bitsback = np.load(os.path.join(dir_name, \"ideal_bits_bitsback.npy\"))[0]\n",
    "true_bits_bitsback = np.load(os.path.join(dir_name, \"true_bits_bitsback.npy\"))[0]\n",
    "true_net_bits_bitsback = np.load(os.path.join(dir_name, \"true_net_bits_bitsback.npy\"))[0]\n",
    "\n",
    "# BB-AIS\n",
    "ideal_bits_ais_bitsback_array = np.load(os.path.join(dir_name, \"ideal_bits_ais_bitsback_array.npy\"))\n",
    "true_bits_ais_bitsback_array = np.load(os.path.join(dir_name, \"true_bits_ais_bitsback_array.npy\"))\n",
    "true_net_bits_ais_bitsback_array = np.load(os.path.join(dir_name, \"true_net_bits_ais_bitsback_array.npy\"))\n",
    "true_bits_ais_bitsback_bitswap_array = np.load(os.path.join(dir_name, \"true_bits_ais_bitsback_bitswap_array.npy\"))\n",
    "true_net_bits_ais_bitsback_bitswap_array = np.load(os.path.join(dir_name, \"true_net_bits_ais_bitsback_bitswap_array.npy\"))\n",
    "\n",
    "# BB-IS\n",
    "ideal_bits_is_bitsback_array = np.load(os.path.join(dir_name, \"ideal_bits_is_bitsback_array.npy\"))\n",
    "true_bits_is_bitsback_array = np.load(os.path.join(dir_name, \"true_bits_is_bitsback_array.npy\"))\n",
    "true_net_bits_is_bitsback_array = np.load(os.path.join(dir_name, \"true_net_bits_is_bitsback_array.npy\"))\n",
    "\n",
    "# BB-CIS\n",
    "ideal_bits_cis_bitsback_array = np.load(os.path.join(dir_name, \"ideal_bits_cis_bitsback_array.npy\"))\n",
    "true_bits_cis_bitsback_array = np.load(os.path.join(dir_name, \"true_bits_cis_bitsback_array.npy\"))\n",
    "true_net_bits_cis_bitsback_array = np.load(os.path.join(dir_name, \"true_net_bits_cis_bitsback_array.npy\"))"
   ]
  },
  {
   "cell_type": "markdown",
   "metadata": {},
   "source": [
    "# Plot"
   ]
  },
  {
   "cell_type": "code",
   "execution_count": 16,
   "metadata": {},
   "outputs": [],
   "source": [
    "from matplotlib import rc\n",
    "from matplotlib import pyplot as plt\n",
    "\n",
    "# rc('text', usetex=True)\n",
    "# rc('font',**{'size':10, \"family\" : \"serif\", \"serif\" : \"Times\"})\n",
    "# rc('text.latex', preamble=r'\\usepackage{amsfonts}')\n",
    "# plt.style.use('default')"
   ]
  },
  {
   "cell_type": "code",
   "execution_count": 17,
   "metadata": {
    "pycharm": {
     "name": "#%%\n"
    }
   },
   "outputs": [],
   "source": [
    "plot_max = 8\n",
    "\n",
    "plot_marker_style = {'marker': 'o', 'markersize': 3}\n",
    "scatter_marker_style = {'marker': 'x', 's': 60}"
   ]
  },
  {
   "cell_type": "markdown",
   "metadata": {
    "pycharm": {
     "name": "#%% md\n"
    }
   },
   "source": [
    "## Cleanliness Plot"
   ]
  },
  {
   "cell_type": "code",
   "execution_count": 18,
   "metadata": {
    "pycharm": {
     "name": "#%%\n"
    }
   },
   "outputs": [
    {
     "data": {
      "image/png": "[encoded data removed]",
      "text/plain": [
       "<Figure size 432x288 with 1 Axes>"
      ]
     },
     "metadata": {
      "needs_background": "light"
     },
     "output_type": "display_data"
    }
   ],
   "source": [
    "fig, ax = plt.subplots(nrows=1, ncols=1)\n",
    "bb_ais, = ax.plot(ideal_bits_ais_bitsback_array[:plot_max], true_net_bits_ais_bitsback_array[:plot_max], label=r'BB-AIS', **plot_marker_style)\n",
    "bb_ais_bitswap, = ax.plot(ideal_bits_ais_bitsback_array[:plot_max], true_net_bits_ais_bitsback_bitswap_array[:plot_max], label=r'BB-AIS (BitSwap)', **plot_marker_style)\n",
    "bb_is, = ax.plot(ideal_bits_is_bitsback_array[:plot_max], true_net_bits_is_bitsback_array[:plot_max], label=r'BB-IS', **plot_marker_style)\n",
    "bb_cis, = ax.plot(ideal_bits_cis_bitsback_array[:plot_max], true_net_bits_cis_bitsback_array[:plot_max], label=r'BB-CIS', **plot_marker_style)\n",
    "bb_elbo = ax.scatter([ideal_bits_bitsback], [true_net_bits_bitsback], label=r'BB-ELBO', c='b', **scatter_marker_style)\n",
    "bb_ideal = ax.scatter([ENTROPY], [ENTROPY], label=r'Entropy', c='r', **scatter_marker_style)\n",
    "\n",
    "\n",
    "start = 5.9\n",
    "end = 6.8\n",
    "ax.set_xlim([start, end])\n",
    "ax.set_ylim([start, end])\n",
    "ax.plot([start, end], [start, end], ls='--', c='gray')\n",
    "ax.legend()\n",
    "ax.set_xlabel(r'Ideal Bitrate')\n",
    "ax.set_ylabel(r'Net Bitrate')\n",
    "\n",
    "plt.show()"
   ]
  },
  {
   "cell_type": "markdown",
   "metadata": {
    "pycharm": {
     "name": "#%% md\n"
    }
   },
   "source": [
    "## Convergence Plot"
   ]
  },
  {
   "cell_type": "code",
   "execution_count": 19,
   "metadata": {
    "pycharm": {
     "name": "#%%\n"
    }
   },
   "outputs": [
    {
     "name": "stderr",
     "output_type": "stream",
     "text": [
      "/scratch/ssd002/home/ryoungj/conda_envs/mcbits_test/lib/python3.6/site-packages/ipykernel_launcher.py:12: MatplotlibDeprecationWarning: The 'basex' parameter of __init__() has been renamed 'base' since Matplotlib 3.3; support for the old name will be dropped two minor releases later.\n",
      "  if sys.path[0] == '':\n"
     ]
    },
    {
     "data": {
      "image/png": "[encoded data removed]",
      "text/plain": [
       "<Figure size 432x288 with 1 Axes>"
      ]
     },
     "metadata": {
      "needs_background": "light"
     },
     "output_type": "display_data"
    }
   ],
   "source": [
    "fig, ax = plt.subplots(nrows=1, ncols=1)\n",
    "bb_ais, = ax.plot(ais_steps_array[:plot_max], true_net_bits_ais_bitsback_array[:plot_max], label=r'BB-AIS', **plot_marker_style)\n",
    "bb_ais_bitswap, = ax.plot(ais_steps_array[:plot_max], true_net_bits_ais_bitsback_bitswap_array[:plot_max], label=r'BB-AIS (BitSwap)', **plot_marker_style)\n",
    "bb_is, = ax.plot(num_particles_array[:plot_max], true_net_bits_is_bitsback_array[:plot_max], label=r'BB-IS', **plot_marker_style)\n",
    "bb_cis, = ax.plot(num_particles_array[:plot_max], true_net_bits_cis_bitsback_array[:plot_max], label=r'BB-CIS', **plot_marker_style)\n",
    "bb_elbo = ax.axhline(true_net_bits_bitsback, label=r'BB-ELBO', c='b', ls='--')\n",
    "bb_ideal = ax.axhline(ENTROPY, label=r'Entropy', c='r', ls='--')\n",
    "\n",
    "ax.legend(frameon=True)\n",
    "ax.set_xlabel(r'$N$')\n",
    "ax.set_ylabel('Net Bitrate')\n",
    "ax.set_xscale('log', basex=2)\n",
    "plt.legend()\n",
    "\n",
    "plt.show()"
   ]
  }
 ],
 "metadata": {
  "kernelspec": {
   "display_name": "Python 3",
   "language": "python",
   "name": "python3"
  },
  "language_info": {
   "codemirror_mode": {
    "name": "ipython",
    "version": 3
   },
   "file_extension": ".py",
   "mimetype": "text/x-python",
   "name": "python",
   "nbconvert_exporter": "python",
   "pygments_lexer": "ipython3",
   "version": "3.6.10"
  },
  "pycharm": {
   "stem_cell": {
    "cell_type": "raw",
    "source": [],
    "metadata": {
     "collapsed": false
    }
   }
  }
 },
 "nbformat": 4,
 "nbformat_minor": 4
}